{
 "cells": [
  {
   "cell_type": "code",
   "execution_count": 20,
   "metadata": {
    "collapsed": true
   },
   "outputs": [],
   "source": [
    "class Feistel:\n",
    "    def __init__(self, data, key = \"f2000000\", cipher = \"0\"):\n",
    "        con = Converter()\n",
    "        self.data = con.hexToBin64(data)\n",
    "        self.cipher = con.hexToBin64(cipher)\n",
    "        self.key = con.hexToBin32(key)\n",
    "\n",
    "        \n",
    "    def oneRound(self, rounds):\n",
    "        con = Converter()\n",
    "\n",
    "        leftText = self.data[0:32]\n",
    "        rightText = self.data[32:64]\n",
    "        \n",
    "        leftKey = self.key[0:16]\n",
    "        rightKey = self.key[16:32]\n",
    "\n",
    "        #print(\"original key : {0}\".format(con.binToHex(self.key)))\n",
    "        #print(\"original plaintext : {0}\".format(con.binToHex(self.data)))\n",
    "        #print(\"original left : {0}\".format(con.binToHex(leftText)))\n",
    "        #print(\"original right : {0}\".format(con.binToHex(rightText)))\n",
    "        \n",
    "        for j in range(rounds):\n",
    "\n",
    "            xorInter1 = \"\"\n",
    "            xorInter2 = \"\"\n",
    "            xorInter3 = \"\"\n",
    "\n",
    "            #subkey progress\n",
    "            subKey = leftKey[j+1:16] + leftKey[0:j+1] + rightKey[j+1:16] + rightKey[0:j+1]\n",
    "            for i in range(32):\n",
    "                xorInter1 += str(int(rightText[i])^int(subKey[i]))\n",
    "                \n",
    "            #Substitution / choice(S-box)\n",
    "\n",
    "            sBox = [[14, 4, 13, 1, 2, 15, 11, 8, 3, 10, 6, 12, 5, 9, 0, 7],\n",
    "                   [5, 6, 12, 15, 8, 10, 0, 4, 11, 3, 7, 13, 14, 1, 2, 9]]\n",
    "\n",
    "            #S-box progress\n",
    "            for i in range(8):\n",
    "                selectBit = xorInter1[i*4:(i+1)*4]\n",
    "\n",
    "                #binary into int\n",
    "                convInt = int(selectBit, 2)\n",
    "                findKey = sBox[i%2][convInt]\n",
    "                \n",
    "                #int into binary\n",
    "                xorInter2 += bin(findKey)[2:].zfill(4)#\"{0:b}\".format(findKey)\n",
    "                \n",
    "            #permutation    \n",
    "            permutation = (\n",
    "                xorInter2[21]+xorInter2[1]+xorInter2[14]+xorInter2[24]+xorInter2[9]+xorInter2[26]+xorInter2[7]+xorInter2[28]+\n",
    "                xorInter2[3]+xorInter2[18]+xorInter2[17]+xorInter2[27]+xorInter2[10]+xorInter2[20]+xorInter2[29]+xorInter2[23]+\n",
    "                xorInter2[31]+xorInter2[2]+xorInter2[8]+xorInter2[11]+xorInter2[15]+xorInter2[12]+xorInter2[5]+xorInter2[22]+\n",
    "                xorInter2[30]+xorInter2[19]+xorInter2[13]+xorInter2[25]+xorInter2[6]+xorInter2[0]+xorInter2[4]+xorInter2[16])\n",
    "            \n",
    "            for i in range(32):\n",
    "                xorInter3 += str(int(permutation[i])^int(leftText[i]))\n",
    "\n",
    "            \n",
    "            #final shift left 32bit <-> right 32bit\n",
    "            leftText = rightText\n",
    "            rightText = xorInter3\n",
    "            #print(\"{0} round Left: {1}\".format(j, con.binToHex(leftText)))\n",
    "            #print(\"{0} round Right: {1}\".format(j, con.binToHex(rightText)))\n",
    "        \n",
    "        temp = rightText\n",
    "        rightText = leftText\n",
    "        leftText = temp\n",
    "        temp = leftText + rightText\n",
    "        \n",
    "        #print(\"ciphertext: {0}\".format(con.binToHex16(temp)))\n",
    "        return temp\n",
    "        \n",
    "    def findKey(self, rounds=10):\n",
    "        con = Converter()\n",
    "        one = Feistel(con.binToHex16(self.data), con.binToHex(self.key), con.binToHex16(self.cipher))\n",
    "        if self.cipher != \"0\":\n",
    "            answer = one.oneRound(rounds)\n",
    "            while self.cipher != answer:\n",
    "                self.key = bin(int(self.key, 2) + 1)[2:].zfill(32)\n",
    "                one = Feistel(con.binToHex16(self.data), con.binToHex(self.key), con.binToHex16(self.cipher))\n",
    "                answer = one.oneRound(rounds)\n",
    "                \n",
    "        return con.binToHex(self.key)\n",
    "                \n",
    "            \n",
    "            \n",
    "        \n",
    "\n",
    "    \n",
    "class Converter:\n",
    "\n",
    "    def hexToBin64(self, data):\n",
    "        \n",
    "        return bin(int(data, 16))[2:].zfill(64)\n",
    "    \n",
    "    def hexToBin32(self, data):\n",
    "        \n",
    "        return bin(int(data, 16))[2:].zfill(32)\n",
    "    \n",
    "    def binToHex(self, data):\n",
    "\n",
    "        #return '%08X' %int(data, 2)\n",
    "        return hex(int(data, 2))[2:].zfill(8)\n",
    "    \n",
    "    def binToHex16(self, data):\n",
    "        \n",
    "        return hex(int(data, 2))[2:].zfill(16)\n",
    "\n",
    "    def binToHexBySix(self, data):\n",
    "        bySix = \"\"\n",
    "        for i in range(8):\n",
    "            bySix += '%02X' %int(data[i*6:i*6+6], 2)\n",
    "            \n",
    "        return bySix\n"
   ]
  },
  {
   "cell_type": "code",
   "execution_count": 21,
   "metadata": {
    "collapsed": false
   },
   "outputs": [
    {
     "name": "stdout",
     "output_type": "stream",
     "text": [
      "f24cb904\n",
      "f24cb904\n"
     ]
    }
   ],
   "source": [
    "feis1 = Feistel(\"2174c501ac12f9d1\",\"f2000000\" ,\"df9fcc3ffe09809d\")\n",
    "\n",
    "print(feis1.findKey())\n",
    "\n",
    "feis2 = Feistel(\"40ff24330947f610\",\"f2000000\" ,\"ec2de1305b5f5b02\")\n",
    "\n",
    "print(feis2.findKey())\n"
   ]
  },
  {
   "cell_type": "code",
   "execution_count": 17,
   "metadata": {
    "collapsed": false
   },
   "outputs": [
    {
     "name": "stdout",
     "output_type": "stream",
     "text": [
      "original key : 12345678\n",
      "original plaintext : 770245ffbad4173e\n",
      "original left : 770245ff\n",
      "original right : bad4173e\n",
      "0 round Left: bad4173e\n",
      "0 round Right: df372142\n",
      "1 round Left: df372142\n",
      "1 round Right: bfd3d48b\n",
      "2 round Left: bfd3d48b\n",
      "2 round Right: 3bf78daf\n",
      "3 round Left: 3bf78daf\n",
      "3 round Right: 65c07511\n",
      "4 round Left: 65c07511\n",
      "4 round Right: f85c0a90\n",
      "5 round Left: f85c0a90\n",
      "5 round Right: 489c499e\n",
      "6 round Left: 489c499e\n",
      "6 round Right: 89d06d07\n",
      "7 round Left: 89d06d07\n",
      "7 round Right: 16aa5c2a\n",
      "8 round Left: 16aa5c2a\n",
      "8 round Right: 2dac7c0b\n",
      "9 round Left: 2dac7c0b\n",
      "9 round Right: 4179183b\n",
      "ciphertext: 4179183b2dac7c0b\n"
     ]
    },
    {
     "data": {
      "text/plain": [
       "'0100000101111001000110000011101100101101101011000111110000001011'"
      ]
     },
     "execution_count": 17,
     "metadata": {},
     "output_type": "execute_result"
    }
   ],
   "source": [
    "feis = Feistel(\"770245ffbad4173e\", \"12345678\")\n",
    "\n",
    "feis.oneRound(10)"
   ]
  },
  {
   "cell_type": "code",
   "execution_count": 18,
   "metadata": {
    "collapsed": false
   },
   "outputs": [
    {
     "name": "stdout",
     "output_type": "stream",
     "text": [
      "original key : 0434ef71\n",
      "original plaintext : 1024aa9f473c58c1\n",
      "original left : 1024aa9f\n",
      "original right : 473c58c1\n",
      "0 round Left: 473c58c1\n",
      "0 round Right: 0b7edecd\n",
      "1 round Left: 0b7edecd\n",
      "1 round Right: b973db12\n",
      "2 round Left: b973db12\n",
      "2 round Right: bd1f22e3\n",
      "3 round Left: bd1f22e3\n",
      "3 round Right: f5ef264b\n",
      "4 round Left: f5ef264b\n",
      "4 round Right: af321dad\n",
      "5 round Left: af321dad\n",
      "5 round Right: 05df7929\n",
      "6 round Left: 05df7929\n",
      "6 round Right: 7d02246f\n",
      "7 round Left: 7d02246f\n",
      "7 round Right: 0ba19860\n",
      "8 round Left: 0ba19860\n",
      "8 round Right: c78f6ef0\n",
      "9 round Left: c78f6ef0\n",
      "9 round Right: 4fc83760\n",
      "ciphertext: 4fc83760c78f6ef0\n"
     ]
    },
    {
     "data": {
      "text/plain": [
       "'0100111111001000001101110110000011000111100011110110111011110000'"
      ]
     },
     "execution_count": 18,
     "metadata": {},
     "output_type": "execute_result"
    }
   ],
   "source": [
    "feis = Feistel(\"1024aa9f473c58c1\", \"0434ef71\")\n",
    "\n",
    "feis.oneRound(10)"
   ]
  },
  {
   "cell_type": "code",
   "execution_count": 19,
   "metadata": {
    "collapsed": false
   },
   "outputs": [
    {
     "name": "stdout",
     "output_type": "stream",
     "text": [
      "original key : 98765432\n",
      "original plaintext : 770245ffbad4173a\n",
      "original left : 770245ff\n",
      "original right : bad4173a\n",
      "0 round Left: bad4173a\n",
      "0 round Right: 41b71f66\n",
      "1 round Left: 41b71f66\n",
      "1 round Right: fd19ad2e\n",
      "2 round Left: fd19ad2e\n",
      "2 round Right: d85916ff\n",
      "3 round Left: d85916ff\n",
      "3 round Right: afef74c9\n",
      "4 round Left: afef74c9\n",
      "4 round Right: 3d2fc017\n",
      "5 round Left: 3d2fc017\n",
      "5 round Right: 48516f8d\n",
      "6 round Left: 48516f8d\n",
      "6 round Right: 332dca08\n",
      "7 round Left: 332dca08\n",
      "7 round Right: 75260a57\n",
      "8 round Left: 75260a57\n",
      "8 round Right: 3c7d0b57\n",
      "9 round Left: 3c7d0b57\n",
      "9 round Right: c9000e27\n",
      "ciphertext: c9000e273c7d0b57\n"
     ]
    },
    {
     "data": {
      "text/plain": [
       "'1100100100000000000011100010011100111100011111010000101101010111'"
      ]
     },
     "execution_count": 19,
     "metadata": {},
     "output_type": "execute_result"
    }
   ],
   "source": []
  },
  {
   "cell_type": "code",
   "execution_count": null,
   "metadata": {
    "collapsed": true
   },
   "outputs": [],
   "source": []
  }
 ],
 "metadata": {
  "kernelspec": {
   "display_name": "Python 3",
   "language": "python",
   "name": "python3"
  },
  "language_info": {
   "codemirror_mode": {
    "name": "ipython",
    "version": 3
   },
   "file_extension": ".py",
   "mimetype": "text/x-python",
   "name": "python",
   "nbconvert_exporter": "python",
   "pygments_lexer": "ipython3",
   "version": "3.6.0"
  }
 },
 "nbformat": 4,
 "nbformat_minor": 2
}
