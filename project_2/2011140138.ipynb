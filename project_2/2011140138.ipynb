{
 "cells": [
  {
   "cell_type": "code",
   "execution_count": 9,
   "metadata": {
    "collapsed": false
   },
   "outputs": [],
   "source": [
    "class MathTool:\n",
    "    #Extended euclid algorithm\n",
    "    def eea(self, a, b):\n",
    "        \n",
    "\n",
    "        A = [1, 0, a]\n",
    "        B = [0, 1, b]\n",
    "        T = [0, 0, 0]\n",
    "        while 1:\n",
    "            if B[2] == 0:\n",
    "                # no inverse\n",
    "                return 0\n",
    "            if B[2] == 1:\n",
    "                #found inverse\n",
    "                return B[1]\n",
    "            q = A[2] // B[2]\n",
    "            T = [A[0] - (q * B[0]), A[1] - (q * B[1]), A[2] - (q * B[2])]\n",
    "            A = B\n",
    "            B = T    \n",
    "    #GCD\n",
    "    def gcd(self, a, b):\n",
    "        while b != 0:\n",
    "            temp = a % b\n",
    "            a = b\n",
    "            b = temp\n",
    "        return abs(self.a)\n",
    "    \n",
    "    #Square and Multiplication\n",
    "    def squAndMul(self, b, e, m):\n",
    "        binExp = []\n",
    "        while e != 0:\n",
    "            binExp.append(e % 2)\n",
    "            e = e // 2\n",
    "\n",
    "        result = 1\n",
    "        binExp.reverse()\n",
    "        for i in binExp:\n",
    "            if i == 0:\n",
    "                result = (result * result) % m\n",
    "            else:\n",
    "                result = (result * result * b) % m\n",
    "        return result\n",
    "    #Prime Factorization\n",
    "    def primeFac(self, n):\n",
    "        i = 2\n",
    "        factors = []\n",
    "        while i * i <= n:\n",
    "            if n % i:\n",
    "                i += 1\n",
    "            else:\n",
    "                n //= i\n",
    "                factors.append(i)\n",
    "        if n > 1:\n",
    "            factors.append(n)\n",
    "        return factors"
   ]
  },
  {
   "cell_type": "code",
   "execution_count": 2,
   "metadata": {
    "collapsed": false
   },
   "outputs": [],
   "source": [
    "class RSA:\n",
    "    def __init__(self, c, e, p, q):\n",
    "        self.c = c\n",
    "        self.e = e\n",
    "        self.p = p\n",
    "        self.q = q\n",
    "        \n",
    "    def decrypt(self):\n",
    "        #n은 prime factorization을 통해 p, q 구한다\n",
    "        mt = MathTool()\n",
    "        pi_n = (self.p - 1) * (self.q - 1)\n",
    "        d = mt.eea(pi_n, self.e)\n",
    "        if d<0:\n",
    "            d = d + pi_n\n",
    "        #decrypt\n",
    "        m = mt.squAndMul(self.c, d, (self.p * self.q))\n",
    "        return m"
   ]
  },
  {
   "cell_type": "code",
   "execution_count": 3,
   "metadata": {
    "collapsed": true
   },
   "outputs": [],
   "source": [
    "class ElGamal:\n",
    "    \n",
    "    def __init__(self, Ya, a, q, c1, c2):\n",
    "        self.Ya = Ya\n",
    "        self.a = a\n",
    "        self.q = q\n",
    "        self.c1 = c1\n",
    "        self.c2 = c2\n",
    "        \n",
    "    def find_Xa(self):\n",
    "        mt = MathTool()\n",
    "        Xa = 1\n",
    "        original = mt.squAndMul(self.a, Xa, self.q)\n",
    "        findKey = mt.squAndMul(self.a, Xa, self.q)\n",
    "        while self.Ya!=findKey:\n",
    "            findKey= (findKey * original) % self.q\n",
    "            Xa += 1\n",
    "            \n",
    "        return Xa\n",
    "    def decrypt(self, Xa):\n",
    "        mt = MathTool()\n",
    "        #recover K\n",
    "\n",
    "        #self.Ya = self.a**Xa % self.q\n",
    "        #K = c1**Xa % q\n",
    "        k = mt.squAndMul(self.c1, Xa, self.q)\n",
    "        \n",
    "        k_inv = mt.eea(self.q, k)\n",
    "        m = self.c2 * k_inv % self.q\n",
    "        return m\n",
    "        \n",
    "        \n",
    "    "
   ]
  },
  {
   "cell_type": "code",
   "execution_count": 4,
   "metadata": {
    "collapsed": false
   },
   "outputs": [
    {
     "name": "stdout",
     "output_type": "stream",
     "text": [
      "[4294404461, 4294929631]\n",
      "17.86042449871699\n"
     ]
    }
   ],
   "source": [
    "#Prime Factorization\n",
    "import time\n",
    "start = time.time()\n",
    "print(MathTool().primeFac(18444164967047483891))\n",
    "end = (time.time() - start) / 60\n",
    "print(end)\n",
    "#[4294404461, 4294929631]\n",
    "\n",
    "\n"
   ]
  },
  {
   "cell_type": "code",
   "execution_count": 10,
   "metadata": {
    "collapsed": false
   },
   "outputs": [
    {
     "data": {
      "text/plain": [
       "15230710977846484815"
      ]
     },
     "execution_count": 10,
     "metadata": {},
     "output_type": "execute_result"
    }
   ],
   "source": [
    "#Answer for problem 1\n",
    "rsa = RSA(21, 29, 4294404461, 4294929631)\n",
    "rsa.decrypt()"
   ]
  },
  {
   "cell_type": "code",
   "execution_count": 11,
   "metadata": {
    "collapsed": false
   },
   "outputs": [
    {
     "data": {
      "text/plain": [
       "6835383948117812667"
      ]
     },
     "execution_count": 11,
     "metadata": {},
     "output_type": "execute_result"
    }
   ],
   "source": [
    "#Sample test1\n",
    "rsa = RSA(3540, 29, 4294404461, 4294929631)\n",
    "rsa.decrypt()"
   ]
  },
  {
   "cell_type": "code",
   "execution_count": 12,
   "metadata": {
    "collapsed": false
   },
   "outputs": [
    {
     "data": {
      "text/plain": [
       "10824463971351777081"
      ]
     },
     "execution_count": 12,
     "metadata": {},
     "output_type": "execute_result"
    }
   ],
   "source": [
    "#Sample test2\n",
    "rsa = RSA(173, 29, 4294404461, 4294929631)\n",
    "rsa.decrypt()"
   ]
  },
  {
   "cell_type": "code",
   "execution_count": 16,
   "metadata": {
    "collapsed": false
   },
   "outputs": [
    {
     "name": "stdout",
     "output_type": "stream",
     "text": [
      "1463159957\n",
      "8.401149793465931\n"
     ]
    }
   ],
   "source": [
    "#ElGamal Xa\n",
    "import time\n",
    "elg = ElGamal(22, 43, 1605333871, 187341129, 881954783)\n",
    "start = time.time()\n",
    "print(elg.find_Xa())\n",
    "end = (time.time() - start) / 60\n",
    "print(end)"
   ]
  },
  {
   "cell_type": "code",
   "execution_count": 13,
   "metadata": {
    "collapsed": false
   },
   "outputs": [
    {
     "data": {
      "text/plain": [
       "157"
      ]
     },
     "execution_count": 13,
     "metadata": {},
     "output_type": "execute_result"
    }
   ],
   "source": [
    "#Answer for problem 2\n",
    "elg = ElGamal(22, 43, 1605333871, 187341129, 881954783)\n",
    "elg.decrypt(1463159957)"
   ]
  },
  {
   "cell_type": "code",
   "execution_count": 14,
   "metadata": {
    "collapsed": false
   },
   "outputs": [
    {
     "data": {
      "text/plain": [
       "79610"
      ]
     },
     "execution_count": 14,
     "metadata": {},
     "output_type": "execute_result"
    }
   ],
   "source": [
    "#Sample test1\n",
    "elg = ElGamal(22, 43, 1605333871, 187341129, 50696994)\n",
    "elg.decrypt(1463159957)"
   ]
  },
  {
   "cell_type": "code",
   "execution_count": 15,
   "metadata": {
    "collapsed": false
   },
   "outputs": [
    {
     "data": {
      "text/plain": [
       "21"
      ]
     },
     "execution_count": 15,
     "metadata": {},
     "output_type": "execute_result"
    }
   ],
   "source": [
    "#Sample test2\n",
    "elg = ElGamal(22, 43, 1605333871, 187341129, 1212049520)\n",
    "elg.decrypt(1463159957)"
   ]
  },
  {
   "cell_type": "code",
   "execution_count": null,
   "metadata": {
    "collapsed": true
   },
   "outputs": [],
   "source": [
    "if __name__ == '__main__':\n",
    "    import time\n",
    "    start = time.time()\n",
    "    prime = MathTool().primeFac(18444164967047483891)\n",
    "    print(\"Prime Factorization n. result is p = {0}, q = {1}\".format(prime[0], prime[1]))\n",
    "    end = (time.time() - start) / 60\n",
    "    print(\"time for calculation(second) : {0}\".format(end))\n",
    "    \n",
    "    rsa = RSA(21, 29, prime[0], prime[1])\n",
    "    print(\"problem 1 answer : {0}\".format(rsa.decrypt()))\n",
    "    \n",
    "    elg = ElGamal(22, 43, 1605333871, 187341129, 881954783)\n",
    "    start = time.time()\n",
    "    Xa = elg.find_Xa()\n",
    "    print(\"ElGamal Xa : {0}\".format(Xa))\n",
    "    end = (time.time() - start) / 60\n",
    "    print(\"time for calculation(second) : {0}\".format(end))\n",
    "    print(\"problem 2 answer : {0}\".format(elg.decrypt(Xa)))\n",
    "\n",
    "    input()"
   ]
  }
 ],
 "metadata": {
  "kernelspec": {
   "display_name": "Python 3",
   "language": "python",
   "name": "python3"
  },
  "language_info": {
   "codemirror_mode": {
    "name": "ipython",
    "version": 3
   },
   "file_extension": ".py",
   "mimetype": "text/x-python",
   "name": "python",
   "nbconvert_exporter": "python",
   "pygments_lexer": "ipython3",
   "version": "3.6.0"
  }
 },
 "nbformat": 4,
 "nbformat_minor": 2
}
