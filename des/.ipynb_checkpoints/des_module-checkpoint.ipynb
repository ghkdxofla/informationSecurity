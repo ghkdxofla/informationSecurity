{
 "cells": [
  {
   "cell_type": "code",
   "execution_count": 1,
   "metadata": {
    "collapsed": false
   },
   "outputs": [],
   "source": [
    "class DES:\n",
    "    def __init__(self, data, key):\n",
    "        self.data = data\n",
    "        self.key = key\n",
    "    \n",
    "    #Initial permutation\n",
    "    def ip(self):\n",
    "        ip = \"\"\n",
    "        ip = (\n",
    "            self.data[57]+self.data[49]+self.data[41]+self.data[33]+self.data[25]+self.data[17]+self.data[9]+self.data[1]+\n",
    "            self.data[59]+self.data[51]+self.data[43]+self.data[35]+self.data[27]+self.data[19]+self.data[11]+self.data[3]+\n",
    "            self.data[61]+self.data[53]+self.data[45]+self.data[37]+self.data[29]+self.data[21]+self.data[13]+self.data[5]+\n",
    "            self.data[63]+self.data[55]+self.data[47]+self.data[39]+self.data[31]+self.data[23]+self.data[15]+self.data[7]+\n",
    "            self.data[56]+self.data[48]+self.data[40]+self.data[32]+self.data[24]+self.data[16]+self.data[8]+self.data[0]+\n",
    "            self.data[58]+self.data[50]+self.data[42]+self.data[34]+self.data[26]+self.data[18]+self.data[10]+self.data[2]+\n",
    "            self.data[60]+self.data[52]+self.data[44]+self.data[36]+self.data[28]+self.data[20]+self.data[12]+self.data[4]+\n",
    "            self.data[62]+self.data[54]+self.data[46]+self.data[38]+self.data[30]+self.data[22]+self.data[14]+self.data[6])\n",
    "\n",
    "        return ip\n",
    "    \n",
    "    #Permuted Choice 1\n",
    "    def pc_1(self):\n",
    "        pc_1_up = \"\"\n",
    "        pc_1_up = (\n",
    "            self.key[56]+self.key[48]+self.key[40]+self.key[32]+self.key[24]+self.key[16]+self.key[8]+\n",
    "            self.key[0]+self.key[57]+self.key[49]+self.key[41]+self.key[33]+self.key[25]+self.key[17]+\n",
    "            self.key[9]+self.key[1]+self.key[58]+self.key[50]+self.key[42]+self.key[34]+self.key[26]+\n",
    "            self.key[18]+self.key[10]+self.key[2]+self.key[59]+self.key[51]+self.key[43]+self.key[35])\n",
    "        pc_1_down = \"\"\n",
    "        pc_1_down = (\n",
    "            self.key[62]+self.key[54]+self.key[46]+self.key[38]+self.key[30]+self.key[22]+self.key[14]+\n",
    "            self.key[6]+self.key[61]+self.key[53]+self.key[45]+self.key[37]+self.key[29]+self.key[21]+\n",
    "            self.key[13]+self.key[5]+self.key[60]+self.key[52]+self.key[44]+self.key[36]+self.key[28]+\n",
    "            self.key[20]+self.key[12]+self.key[4]+self.key[27]+self.key[19]+self.key[11]+self.key[3])\n",
    "        \n",
    "        return pc_1_up + pc_1_down\n",
    "    \n",
    "    #Left shift (round bit shift)\n",
    "    def leftShift(self, key, rounds):\n",
    "        #Schedule of Left Shifts(Bits Rotated)\n",
    "        roundNumber = \"1122222212222221\"\n",
    "        #pc_1 is sliced into two pieces\n",
    "        key_up = key[0:28]\n",
    "        key_down = key[28:56]\n",
    "\n",
    "        key_upShifted = \"\"\n",
    "        key_downShifted = \"\"\n",
    "        if roundNumber[rounds-1]==\"1\":\n",
    "            key_upShifted = key_up[1:] + key_up[0]\n",
    "            key_downShifted = key_down[1:] + key_down[0]\n",
    "        if roundNumber[rounds-1]==\"2\":\n",
    "            key_upShifted = key_up[2:] + key_up[0] + key_up[1]\n",
    "            key_downShifted = key_down[2:] + key_down[0] + key_down[1]\n",
    "        \n",
    "        return key_upShifted + key_downShifted\n",
    "    \n",
    "    #Permuted Choice 2\n",
    "    def pc_2(self, key):\n",
    "        pc_2 = \"\"\n",
    "        pc_2 = (key[13]+key[16]+key[10]+key[23]+key[0]+key[4]+key[2]+key[27]+\n",
    "                key[14]+key[5]+key[20]+key[9]+key[22]+key[18]+key[11]+key[3]+\n",
    "                key[25]+key[7]+key[15]+key[6]+key[26]+key[19]+key[12]+key[1]+\n",
    "                key[40]+key[51]+key[30]+key[36]+key[46]+key[54]+key[29]+key[39]+\n",
    "                key[50]+key[44]+key[32]+key[47]+key[43]+key[48]+key[38]+key[55]+\n",
    "                key[33]+key[52]+key[45]+key[41]+key[49]+key[35]+key[28]+key[31])\n",
    "        \n",
    "        return pc_2\n",
    "    \n",
    "    #Single Round\n",
    "    def singleRound(self, encrypting, pc_2):\n",
    "        encryptingLeft = encrypting[0:32]\n",
    "        encryptingRight = encrypting[32:64]\n",
    "        \n",
    "        #Expansion / permutation\n",
    "        expansion = (\n",
    "            encryptingRight[31]+encryptingRight[0]+encryptingRight[1]+encryptingRight[2]+encryptingRight[3]+encryptingRight[4]+\n",
    "            encryptingRight[3]+encryptingRight[4]+encryptingRight[5]+encryptingRight[6]+encryptingRight[7]+encryptingRight[8]+\n",
    "            encryptingRight[7]+encryptingRight[8]+encryptingRight[9]+encryptingRight[10]+encryptingRight[11]+encryptingRight[12]+\n",
    "            encryptingRight[11]+encryptingRight[12]+encryptingRight[13]+encryptingRight[14]+encryptingRight[15]+encryptingRight[16]+\n",
    "            encryptingRight[15]+encryptingRight[16]+encryptingRight[17]+encryptingRight[18]+encryptingRight[19]+encryptingRight[20]+\n",
    "            encryptingRight[19]+encryptingRight[20]+encryptingRight[21]+encryptingRight[22]+encryptingRight[23]+encryptingRight[24]+\n",
    "            encryptingRight[23]+encryptingRight[24]+encryptingRight[25]+encryptingRight[26]+encryptingRight[27]+encryptingRight[28]+\n",
    "            encryptingRight[27]+encryptingRight[28]+encryptingRight[29]+encryptingRight[30]+encryptingRight[31]+encryptingRight[0])\n",
    "        print(\"expension : {0}\".format(expansion))\n",
    "        \n",
    "        #XOR gate at F(with E table, PC2)\n",
    "        xor_F = \"\"\n",
    "        for i in range(48):\n",
    "            xor_F += str(int(expansion[i])^int(pc_2[i]))\n",
    "        \n",
    "        print(\"XOR_F : {0}\".format(xor_F))\n",
    "\n",
    "        #Substitution / choice(S-box)\n",
    "        substitution = \"\"\n",
    "        \n",
    "        sBox = [[14, 4, 13, 1, 2, 15, 11, 8, 3, 10, 6, 12, 5, 9, 0, 7,\n",
    "                0, 15, 7, 4, 14, 2, 13, 1, 10, 6, 12, 11, 9, 5, 3, 8,\n",
    "                4, 1, 14, 8, 13, 6, 2, 11, 15, 12, 9, 7, 3, 10, 5, 0,\n",
    "                15, 12, 8, 2, 4, 9, 1, 7, 5, 11, 3, 14, 10, 0, 6, 13], \n",
    "                [15, 1, 8, 14, 6, 11, 3, 4, 9, 7, 2, 13, 12, 0, 5, 10, \n",
    "                3, 13, 4, 7, 15, 2, 8, 14, 12, 0, 1, 10, 6, 9, 11, 5, \n",
    "                0, 14, 7, 11, 10, 4, 13, 1, 5, 8, 12, 6, 9, 3, 2, 15, \n",
    "                13, 8, 10, 1, 3, 15, 4, 2, 11, 6, 7, 12, 0, 5, 14, 9], \n",
    "                [10, 0, 9, 14, 6, 3, 15, 5, 1, 13, 12, 7, 11, 4, 2, 8, \n",
    "                13, 7, 0, 9, 3, 4, 6, 10, 2, 8, 5, 14, 12, 11, 15, 1, \n",
    "                13, 6, 4, 9, 8, 15, 3, 0, 11, 1, 2, 12, 5, 10, 14, 7, \n",
    "                1, 10, 13, 0, 6, 9, 8, 7, 4, 15, 14, 3, 11, 5, 2, 12], \n",
    "                [7, 13, 14, 3, 0, 6, 9, 10, 1, 2, 8, 5, 11, 12, 4, 15, \n",
    "                13, 8, 11, 5, 6, 15, 0, 3, 4, 7, 2, 12, 1, 10, 14, 9, \n",
    "                10, 6, 9, 0, 12, 11, 7, 13, 15, 1, 3, 14, 5, 2, 8, 4, \n",
    "                3, 15, 0, 6, 10, 1, 13, 8, 9, 4, 5, 11, 12, 7, 2, 14], \n",
    "                [2, 12, 4, 1, 7, 10, 11, 6, 8, 5, 3, 15, 13, 0, 14, 9, \n",
    "                14, 11, 2, 12, 4, 7, 13, 1, 5, 0, 15, 10, 3, 9, 8, 6, \n",
    "                4, 2, 1, 11, 10, 13, 7, 8, 15, 9, 12, 5, 6, 3, 0, 14, \n",
    "                11, 8, 12, 7, 1, 14, 2, 13, 6, 15, 0, 9, 10, 4, 5, 3], \n",
    "                [12, 1, 10, 15, 9, 2, 6, 8, 0, 13, 3, 4, 14, 7, 5, 11, \n",
    "                10, 15, 4, 2, 7, 12, 9, 5, 6, 1, 13, 14, 0, 11, 3, 8, \n",
    "                9, 14, 15, 5, 2, 8, 12, 3, 7, 0, 4, 10, 1, 13, 11, 6, \n",
    "                4, 3, 2, 12, 9, 5, 15, 10, 11, 14, 1, 7, 6, 0, 8, 13], \n",
    "                [4, 11, 2, 14, 15, 0, 8, 13, 3, 12, 9, 7, 5, 10, 6, 1, \n",
    "                13, 0, 11, 7, 4, 9, 1, 10, 14, 3, 5, 12, 2, 15, 8, 6, \n",
    "                1, 4, 11, 13, 12, 3, 7, 14, 10, 15, 6, 8, 0, 5, 9, 2, \n",
    "                6, 11, 13, 8, 1, 4, 10, 7, 9, 5, 0, 15, 14, 2, 3, 12], \n",
    "                [13, 2, 8, 4, 6, 15, 11, 1, 10, 9, 3, 14, 5, 0, 12, 7, \n",
    "                1, 15, 13, 8, 10, 3, 7, 4, 12, 5, 6, 11, 0, 14, 9, 2, \n",
    "                7, 11, 4, 1, 9, 12, 14, 2, 0, 6, 10, 13, 15, 3, 5, 8, \n",
    "                2, 1, 14, 7, 4, 10, 8, 13, 15, 12, 9, 0, 3, 5, 6, 11]]\n",
    "        \n",
    "        #S-box progress\n",
    "        for i in range(8):\n",
    "            selectBit = xor_F[i*6:(i+1)*6]\n",
    "            row = selectBit[0]+selectBit[5]\n",
    "            column = selectBit[1:5]\n",
    "\n",
    "            #binary into int\n",
    "            rowInt = int(row, 2)\n",
    "            columnInt = int(column, 2)\n",
    "            findKey = sBox[i][16*rowInt+columnInt]\n",
    "            #int into binary\n",
    "            substitution += bin(findKey)[2:].zfill(4)#\"{0:b}\".format(findKey)\n",
    "        \n",
    "        print(\"S-box : {0}\".format(substitution))\n",
    "\n",
    "        #Permutation function(P)\n",
    "        permutation = \"\"\n",
    "        permutation = (substitution[15]+substitution[6]+substitution[19]+substitution[20]+substitution[28]+substitution[11]+substitution[27]+substitution[16]+\n",
    "                       substitution[0]+substitution[14]+substitution[22]+substitution[25]+substitution[4]+substitution[17]+substitution[30]+substitution[9]+\n",
    "                       substitution[1]+substitution[7]+substitution[23]+substitution[13]+substitution[31]+substitution[26]+substitution[2]+substitution[8]+\n",
    "                       substitution[18]+substitution[12]+substitution[29]+substitution[5]+substitution[21]+substitution[10]+substitution[3]+substitution[24])\n",
    "        \n",
    "        print(\"Permutation : {0}\".format(permutation))\n",
    "\n",
    "        \n",
    "        #XOR with L(i-1), P\n",
    "        xor_P = \"\"\n",
    "        for i in range(32):\n",
    "            xor_P += str(int(permutation[i])^int(encryptingLeft[i]))\n",
    "\n",
    "        print(\"xor_P : {0}\".format(xor_P))\n",
    "            \n",
    "        #Encrypt left 32bit\n",
    "        encryptedLeft = encryptingRight\n",
    "        \n",
    "        #Encrypt right 32bit\n",
    "        encryptedRight = xor_P\n",
    "        \n",
    "        #Test code for des Li, Ri\n",
    "        #con = Converter()\n",
    "        print(con.binToHex(encryptedLeft), con.binToHex(encryptedRight))\n",
    "        return encryptedLeft + encryptedRight\n",
    "    \n",
    "    #32-bit swap\n",
    "    def swap(self, encrypting):\n",
    "        bitSwap = \"\"\n",
    "        bitSwap = encrypting[32:64] + encrypting[0:32]\n",
    "        \n",
    "        return bitSwap\n",
    "    \n",
    "    #Inverse permutation\n",
    "    def ipInverse(self, encrypting):\n",
    "        ipInverse = \"\"\n",
    "        ipInverse = (\n",
    "            encrypting[39]+encrypting[7]+encrypting[47]+encrypting[15]+encrypting[55]+encrypting[23]+encrypting[63]+encrypting[31]+\n",
    "            encrypting[38]+encrypting[6]+encrypting[46]+encrypting[14]+encrypting[54]+encrypting[22]+encrypting[62]+encrypting[30]+\n",
    "            encrypting[37]+encrypting[5]+encrypting[45]+encrypting[13]+encrypting[53]+encrypting[21]+encrypting[61]+encrypting[29]+\n",
    "            encrypting[36]+encrypting[4]+encrypting[44]+encrypting[12]+encrypting[52]+encrypting[20]+encrypting[60]+encrypting[28]+\n",
    "            encrypting[35]+encrypting[3]+encrypting[43]+encrypting[11]+encrypting[51]+encrypting[19]+encrypting[59]+encrypting[27]+\n",
    "            encrypting[34]+encrypting[2]+encrypting[42]+encrypting[10]+encrypting[50]+encrypting[18]+encrypting[58]+encrypting[26]+\n",
    "            encrypting[33]+encrypting[1]+encrypting[41]+encrypting[9]+encrypting[49]+encrypting[17]+encrypting[57]+encrypting[25]+\n",
    "            encrypting[32]+encrypting[0]+encrypting[40]+encrypting[8]+encrypting[48]+encrypting[16]+encrypting[56]+encrypting[24])\n",
    "        \n",
    "        return ipInverse\n",
    "\n",
    "class Converter:\n",
    "\n",
    "    def hexToBin(self, data):\n",
    "        \n",
    "        return bin(int(data, 16))[2:].zfill(64)\n",
    "    \n",
    "    def binToHex(self, data):\n",
    "\n",
    "        #return '%08X' %int(data, 2)\n",
    "        return hex(int(data, 2))[2:].zfill(16)\n",
    "    \n",
    "    def binToHexBySix(self, data):\n",
    "        bySix = \"\"\n",
    "        for i in range(8):\n",
    "            bySix += '%02X' %int(data[i*6:i*6+6], 2)\n",
    "            \n",
    "        return bySix\n",
    "\n",
    "#DES encrypt, decrypt    \n",
    "class DES_CRYPT(DES):\n",
    "    def __init__(self, data, key):\n",
    "        super().__init__(data, key)\n",
    "    \n",
    "    #Encrypt\n",
    "    def enc(self):\n",
    "        \n",
    "        con = Converter()\n",
    "\n",
    "        data = con.hexToBin(self.data)\n",
    "        key = con.hexToBin(self.key)\n",
    "\n",
    "        des = DES(data, key)\n",
    "\n",
    "        ip = des.ip()\n",
    "        print(\"Initial permutation : {0}\".format(con.binToHex(ip)))\n",
    "\n",
    "        pc_1 = des.pc_1()\n",
    "        print(\"PC-1 : {0}\".format(con.binToHex(pc_1)))\n",
    "\n",
    "        for i in range(1, 17):\n",
    "            shift = des.leftShift(pc_1, i)\n",
    "            print(\"Left shifted : {1} --- Round {0}\".format(con.binToHex(shift), i))\n",
    "\n",
    "            pc_2 = des.pc_2(shift)\n",
    "            print(\"PC-2 : {0}\".format(con.binToHexBySix(pc_2)))\n",
    "\n",
    "            single = des.singleRound(ip, pc_2)\n",
    "            print(\"{1} Round Ciphertext : {0}\".format(con.binToHex(single), i))\n",
    "            ip = single\n",
    "            pc_1 = shift\n",
    "\n",
    "        swap = des.swap(single)\n",
    "        print(\"Swap 32-bit : {0}\".format(con.binToHex(swap)))\n",
    "\n",
    "        inverse = des.ipInverse(swap)\n",
    "        print(\"Encrypted Ciphertext : {0}\".format(con.binToHex(inverse)))\n",
    "    \n",
    "    #decrypt\n",
    "    def dec(self):\n",
    "        \n",
    "        con = Converter()\n",
    "\n",
    "        data = con.hexToBin(self.data)\n",
    "        key = con.hexToBin(self.key)\n",
    "\n",
    "        des = DES(data, key)\n",
    "\n",
    "        ip = des.ip()\n",
    "        print(\"Initial permutation : {0}\".format(con.binToHex(ip)))\n",
    "\n",
    "        pc_1 = des.pc_1()\n",
    "        print(\"PC-1 : {0}\".format(con.binToHex(pc_1)))\n",
    "\n",
    "        decryptKey = []\n",
    "        \n",
    "        for i in range(16):\n",
    "            shift = des.leftShift(pc_1, i+1)\n",
    "            decryptKey.append(des.pc_2(shift))\n",
    "            pc_1 = shift\n",
    "        \n",
    "        for i in range(1, 17):\n",
    "            pc_2 = decryptKey[16-i]\n",
    "\n",
    "            single = des.singleRound(ip, pc_2)\n",
    "            print(\"{1} Round Ciphertext : {0}\".format(con.binToHex(single), i))\n",
    "            ip = single\n",
    "\n",
    "        swap = des.swap(single)\n",
    "        print(\"Swap 32-bit : {0}\".format(con.binToHex(swap)))\n",
    "\n",
    "        inverse = des.ipInverse(swap)\n",
    "        print(\"Decrypted Ciphertext : {0}\".format(con.binToHex(inverse)))\n",
    "                "
   ]
  },
  {
   "cell_type": "code",
   "execution_count": 365,
   "metadata": {
    "collapsed": false
   },
   "outputs": [
    {
     "name": "stdout",
     "output_type": "stream",
     "text": [
      "Initial permutation : 5a005a003cf03c0f\n",
      "PC-1 : 0068fc44a1113e96\n",
      "Left shifted : 1 --- Round 00d1f88942227d2c\n",
      "PC-2 : 1E030F03080D2930\n",
      "1 Round Ciphertext : 3cf03c0fbad22845\n",
      "Left shifted : 2 --- Round 00a3f1129444fa58\n",
      "PC-2 : 0A31293432242318\n",
      "2 Round Ciphertext : bad2284599e9b723\n",
      "Left shifted : 3 --- Round 008fc44a6113e961\n",
      "PC-2 : 23072318201D0C1D\n",
      "3 Round Ciphertext : 99e9b7230bae3b9e\n",
      "Left shifted : 4 --- Round 003f1129a44fa584\n",
      "PC-2 : 05261D3824311A20\n",
      "4 Round Ciphertext : 0bae3b9e42415649\n",
      "Left shifted : 5 --- Round 00fc44a6813e9611\n",
      "PC-2 : 3325340136002C25\n",
      "5 Round Ciphertext : 4241564918b3fa41\n",
      "Left shifted : 6 --- Round 00f1129a34fa5844\n",
      "PC-2 : 123A2D0D04262A1C\n",
      "6 Round Ciphertext : 18b3fa419616fe23\n",
      "Left shifted : 7 --- Round 00c44a68f3e96111\n",
      "PC-2 : 021F120B1C130611\n",
      "7 Round Ciphertext : 9616fe2367117cf2\n",
      "Left shifted : 8 --- Round 001129a3ffa58444\n",
      "PC-2 : 1C10372A2832002B\n",
      "8 Round Ciphertext : 67117cf2c11bfc09\n",
      "Left shifted : 9 --- Round 00225347ef4b0889\n",
      "PC-2 : 04292A380C341F03\n",
      "9 Round Ciphertext : c11bfc09887fbc6c\n",
      "Left shifted : 10 --- Round 00894d1f8d2c2227\n",
      "PC-2 : 2703212607280403\n",
      "10 Round Ciphertext : 887fbc6c600f7e8b\n",
      "Left shifted : 11 --- Round 0025347e24b0889f\n",
      "PC-2 : 2826390C31261504\n",
      "11 Round Ciphertext : 600f7e8bf596506e\n",
      "Left shifted : 12 --- Round 0094d1f882c2227d\n",
      "PC-2 : 12071C241A0A0F08\n",
      "12 Round Ciphertext : f596506e738538b8\n",
      "Left shifted : 13 --- Round 005347e22b0889f4\n",
      "PC-2 : 300935393C0D100B\n",
      "13 Round Ciphertext : 738538b8c6a62c4e\n",
      "Left shifted : 14 --- Round 004d1f889c2227d2\n",
      "PC-2 : 311E09231321182A\n",
      "14 Round Ciphertext : c6a62c4e56b0bd75\n",
      "Left shifted : 15 --- Round 00347e2250889f4b\n",
      "PC-2 : 283D3E0227072528\n",
      "15 Round Ciphertext : 56b0bd7575e8fd8f\n",
      "Left shifted : 16 --- Round 0068fc44a1113e96\n",
      "PC-2 : 2921080B13143025\n",
      "16 Round Ciphertext : 75e8fd8f25896490\n",
      "Swap 32-bit : 2589649075e8fd8f\n",
      "Encrypted Ciphertext : da02ce3a89ecac3b\n",
      "Initial permutation : 2589649075e8fd8f\n",
      "PC-1 : 0068fc44a1113e96\n",
      "1 Round Ciphertext : 75e8fd8f56b0bd75\n",
      "2 Round Ciphertext : 56b0bd75c6a62c4e\n",
      "3 Round Ciphertext : c6a62c4e738538b8\n",
      "4 Round Ciphertext : 738538b8f596506e\n",
      "5 Round Ciphertext : f596506e600f7e8b\n",
      "6 Round Ciphertext : 600f7e8b887fbc6c\n",
      "7 Round Ciphertext : 887fbc6cc11bfc09\n",
      "8 Round Ciphertext : c11bfc0967117cf2\n",
      "9 Round Ciphertext : 67117cf29616fe23\n",
      "10 Round Ciphertext : 9616fe2318b3fa41\n",
      "11 Round Ciphertext : 18b3fa4142415649\n",
      "12 Round Ciphertext : 424156490bae3b9e\n",
      "13 Round Ciphertext : 0bae3b9e99e9b723\n",
      "14 Round Ciphertext : 99e9b723bad22845\n",
      "15 Round Ciphertext : bad228453cf03c0f\n",
      "16 Round Ciphertext : 3cf03c0f5a005a00\n",
      "Swap 32-bit : 5a005a003cf03c0f\n",
      "Decrypted Ciphertext : 02468aceeca86420\n"
     ]
    }
   ],
   "source": [
    "test = DES_CRYPT(\"02468aceeca86420\", \"0f1571c947d9e859\")\n",
    "test.enc()\n",
    "\n",
    "test = DES_CRYPT(\"DA02CE3A89ECAC3B\", \"0f1571c947d9e859\")\n",
    "test.dec()"
   ]
  },
  {
   "cell_type": "code",
   "execution_count": 8,
   "metadata": {
    "collapsed": false
   },
   "outputs": [
    {
     "name": "stdout",
     "output_type": "stream",
     "text": [
      "Initial permutation : 5a005a003cf03c0f\n",
      "PC-1 : 0068fc44a1113e96\n",
      "Left shifted : 1 --- Round 00d1f88942227d2c\n",
      "PC-2 : 1E030F03080D2930\n",
      "expension : 100111111001011110100000000111111000000001011110\n",
      "XOR_F : 111001111010010001100011001111110101101000101110\n",
      "S-box : 10100011001011110001000111000010\n",
      "Permutation : 11100000110100100111001001000101\n",
      "xor_P : 10111010110100100010100001000101\n",
      "000000003cf03c0f 00000000bad22845\n",
      "1 Round Ciphertext : 3cf03c0fbad22845\n",
      "Left shifted : 2 --- Round 00a3f1129444fa58\n",
      "PC-2 : 0A31293432242318\n",
      "expension : 110111110101011010100100000101010000001000001011\n",
      "XOR_F : 111101000100110011010000110111110100101011010011\n",
      "S-box : 01101000111100011001010001000101\n",
      "Permutation : 10100101000110011000101100101100\n",
      "xor_P : 10011001111010011011011100100011\n",
      "00000000bad22845 0000000099e9b723\n",
      "2 Round Ciphertext : bad2284599e9b723\n",
      "Left shifted : 3 --- Round 008fc44a6113e961\n",
      "PC-2 : 23072318201D0C1D\n",
      "expension : 110011110011111101010011110110101110100100000111\n",
      "XOR_F : 010000110100011110001011010110110011101000011010\n",
      "S-box : 00111100100011111111111011000000\n",
      "Permutation : 10110001011111000001001111011011\n",
      "xor_P : 00001011101011100011101110011110\n",
      "0000000099e9b723 000000000bae3b9e\n",
      "3 Round Ciphertext : 99e9b7230bae3b9e\n",
      "Left shifted : 4 --- Round 003f1129a44fa584\n",
      "PC-2 : 05261D3824311A20\n",
      "expension : 000001010111110101011100000111110111110011111100\n",
      "XOR_F : 000100110001101000100100100011000110101001011100\n",
      "S-box : 11011011100010011000111100011100\n",
      "Permutation : 11011011101010001110000101101010\n",
      "xor_P : 01000010010000010101011001001001\n",
      "000000000bae3b9e 0000000042415649\n",
      "4 Round Ciphertext : 0bae3b9e42415649\n",
      "Left shifted : 5 --- Round 00fc44a6813e9611\n",
      "PC-2 : 3325340136002C25\n",
      "expension : 101000000100001000000010101010101100001001010010\n",
      "XOR_F : 011011100001111100000011011100101100100101110111\n",
      "S-box : 01011101111010001110110011010000\n",
      "Permutation : 00010011000111011100000111011111\n",
      "xor_P : 00011000101100111111101001000001\n",
      "0000000042415649 0000000018b3fa41\n",
      "5 Round Ciphertext : 4241564918b3fa41\n",
      "Left shifted : 6 --- Round 00f1129a34fa5844\n",
      "PC-2 : 123A2D0D04262A1C\n",
      "expension : 100011110001010110100111111111110100001000000010\n",
      "XOR_F : 110001001011111011101010111011010010100010011110\n",
      "S-box : 01010010010110110100110101000111\n",
      "Permutation : 11010100010101111010100001101010\n",
      "xor_P : 10010110000101101111111000100011\n",
      "0000000018b3fa41 000000009616fe23\n",
      "6 Round Ciphertext : 18b3fa419616fe23\n",
      "Left shifted : 7 --- Round 00c44a68f3e96111\n",
      "PC-2 : 021F120B1C130611\n",
      "expension : 110010101100000010101101011111111100000100000111\n",
      "XOR_F : 110000110011010000100110000011101111000010010110\n",
      "S-box : 11110110000100001011101010111110\n",
      "Permutation : 01111111101000101000011010110011\n",
      "xor_P : 01100111000100010111110011110010\n",
      "000000009616fe23 0000000067117cf2\n",
      "7 Round Ciphertext : 9616fe2367117cf2\n",
      "Left shifted : 8 --- Round 001129a3ffa58444\n",
      "PC-2 : 1C10372A2832002B\n",
      "expension : 001100001110100010100010101111111001011110100100\n",
      "XOR_F : 010000011110010101001000000111001011011110001111\n",
      "S-box : 00111010010100001100110000010100\n",
      "Permutation : 01010111000011010000001000101010\n",
      "xor_P : 11000001000110111111110000001001\n",
      "0000000067117cf2 00000000c11bfc09\n",
      "8 Round Ciphertext : 67117cf2c11bfc09\n",
      "Left shifted : 9 --- Round 00225347ef4b0889\n",
      "PC-2 : 04292A380C341F03\n",
      "expension : 111000000010100011110111111111111000000001010011\n",
      "XOR_F : 111100101011001001001111110011001100011110010000\n",
      "S-box : 01011111001100111111011000011010\n",
      "Permutation : 11101111011011101100000010011110\n",
      "xor_P : 10001000011111111011110001101100\n",
      "00000000c11bfc09 00000000887fbc6c\n",
      "9 Round Ciphertext : c11bfc09887fbc6c\n",
      "Left shifted : 10 --- Round 00894d1f8d2c2227\n",
      "PC-2 : 2703212607280403\n",
      "expension : 010001010000001111111111110111111000001101011001\n",
      "XOR_F : 110110010011101110011001110000010000001001011010\n",
      "S-box : 01110000000000011111000001000000\n",
      "Permutation : 10100001000101001000001010000010\n",
      "xor_P : 01100000000011110111111010001011\n",
      "00000000887fbc6c 00000000600f7e8b\n",
      "10 Round Ciphertext : 887fbc6c600f7e8b\n",
      "Left shifted : 11 --- Round 0025347e24b0889f\n",
      "PC-2 : 2826390C31261504\n",
      "expension : 101100000000000001011110101111111101010001010110\n",
      "XOR_F : 000100100110111000010010011110011011000100010010\n",
      "S-box : 11011011010100101001101100101001\n",
      "Permutation : 01111101111010011110110000000010\n",
      "xor_P : 11110101100101100101000001101110\n",
      "00000000600f7e8b 00000000f596506e\n",
      "11 Round Ciphertext : 600f7e8bf596506e\n",
      "Left shifted : 12 --- Round 0094d1f882c2227d\n",
      "PC-2 : 12071C241A0A0F08\n",
      "expension : 011110101011110010101100001010100000001101011101\n",
      "XOR_F : 001100101100101110001000010000101010000010010101\n",
      "S-box : 10111101000000001000100010110110\n",
      "Permutation : 00010011100010100100011000110011\n",
      "xor_P : 01110011100001010011100010111000\n",
      "00000000f596506e 00000000738538b8\n",
      "12 Round Ciphertext : f596506e738538b8\n",
      "Left shifted : 13 --- Round 005347e22b0889f4\n",
      "PC-2 : 300935393C0D100B\n",
      "expension : 001110100111110000001010100111110001010111110000\n",
      "XOR_F : 111110101110000101110011011011111100000111111011\n",
      "S-box : 00000001000001001001101101110101\n",
      "Permutation : 00110011001100000111110000100000\n",
      "xor_P : 11000110101001100010110001001110\n",
      "00000000738538b8 00000000c6a62c4e\n",
      "13 Round Ciphertext : 738538b8c6a62c4e\n",
      "Left shifted : 14 --- Round 004d1f889c2227d2\n",
      "PC-2 : 311E09231321182A\n",
      "expension : 011000001101010100001100000101011000001001011101\n",
      "XOR_F : 101001010011011101101111010110111001010001110111\n",
      "S-box : 01000000111110001111011011100000\n",
      "Permutation : 00100101001101011000010111001101\n",
      "xor_P : 01010110101100001011110101110101\n",
      "00000000c6a62c4e 0000000056b0bd75\n",
      "14 Round Ciphertext : c6a62c4e56b0bd75\n",
      "Left shifted : 15 --- Round 00347e2250889f4b\n",
      "PC-2 : 283D3E0227072528\n",
      "expension : 101010101101010110100001010111111010101110101010\n",
      "XOR_F : 000010010000101000100011110000111101001011000010\n",
      "S-box : 01001001100011111111100010010010\n",
      "Permutation : 10110011010011101101000111000001\n",
      "xor_P : 01110101111010001111110110001111\n",
      "0000000056b0bd75 0000000075e8fd8f\n",
      "15 Round Ciphertext : 56b0bd7575e8fd8f\n",
      "Left shifted : 16 --- Round 0068fc44a1113e96\n",
      "PC-2 : 2921080B13143025\n",
      "expension : 101110101011111101010001011111111011110001011110\n",
      "XOR_F : 000111001010110101011010001100101111000001111011\n",
      "S-box : 01001011111011001011101011010101\n",
      "Permutation : 01110011001110011101100111100101\n",
      "xor_P : 00100101100010010110010010010000\n",
      "0000000075e8fd8f 0000000025896490\n",
      "16 Round Ciphertext : 75e8fd8f25896490\n",
      "Swap 32-bit : 2589649075e8fd8f\n",
      "Encrypted Ciphertext : da02ce3a89ecac3b\n",
      "Initial permutation : 2589649075e8fd8f\n",
      "PC-1 : 0068fc44a1113e96\n",
      "expension : 101110101011111101010001011111111011110001011110\n",
      "XOR_F : 000111001010110101011010001100101111000001111011\n",
      "S-box : 01001011111011001011101011010101\n",
      "Permutation : 01110011001110011101100111100101\n",
      "xor_P : 01010110101100001011110101110101\n",
      "0000000075e8fd8f 0000000056b0bd75\n",
      "1 Round Ciphertext : 75e8fd8f56b0bd75\n",
      "expension : 101010101101010110100001010111111010101110101010\n",
      "XOR_F : 000010010000101000100011110000111101001011000010\n",
      "S-box : 01001001100011111111100010010010\n",
      "Permutation : 10110011010011101101000111000001\n",
      "xor_P : 11000110101001100010110001001110\n",
      "0000000056b0bd75 00000000c6a62c4e\n",
      "2 Round Ciphertext : 56b0bd75c6a62c4e\n",
      "expension : 011000001101010100001100000101011000001001011101\n",
      "XOR_F : 101001010011011101101111010110111001010001110111\n",
      "S-box : 01000000111110001111011011100000\n",
      "Permutation : 00100101001101011000010111001101\n",
      "xor_P : 01110011100001010011100010111000\n",
      "00000000c6a62c4e 00000000738538b8\n",
      "3 Round Ciphertext : c6a62c4e738538b8\n",
      "expension : 001110100111110000001010100111110001010111110000\n",
      "XOR_F : 111110101110000101110011011011111100000111111011\n",
      "S-box : 00000001000001001001101101110101\n",
      "Permutation : 00110011001100000111110000100000\n",
      "xor_P : 11110101100101100101000001101110\n",
      "00000000738538b8 00000000f596506e\n",
      "4 Round Ciphertext : 738538b8f596506e\n",
      "expension : 011110101011110010101100001010100000001101011101\n",
      "XOR_F : 001100101100101110001000010000101010000010010101\n",
      "S-box : 10111101000000001000100010110110\n",
      "Permutation : 00010011100010100100011000110011\n",
      "xor_P : 01100000000011110111111010001011\n",
      "00000000f596506e 00000000600f7e8b\n",
      "5 Round Ciphertext : f596506e600f7e8b\n",
      "expension : 101100000000000001011110101111111101010001010110\n",
      "XOR_F : 000100100110111000010010011110011011000100010010\n",
      "S-box : 11011011010100101001101100101001\n",
      "Permutation : 01111101111010011110110000000010\n",
      "xor_P : 10001000011111111011110001101100\n",
      "00000000600f7e8b 00000000887fbc6c\n",
      "6 Round Ciphertext : 600f7e8b887fbc6c\n",
      "expension : 010001010000001111111111110111111000001101011001\n",
      "XOR_F : 110110010011101110011001110000010000001001011010\n",
      "S-box : 01110000000000011111000001000000\n",
      "Permutation : 10100001000101001000001010000010\n",
      "xor_P : 11000001000110111111110000001001\n",
      "00000000887fbc6c 00000000c11bfc09\n",
      "7 Round Ciphertext : 887fbc6cc11bfc09\n",
      "expension : 111000000010100011110111111111111000000001010011\n",
      "XOR_F : 111100101011001001001111110011001100011110010000\n",
      "S-box : 01011111001100111111011000011010\n",
      "Permutation : 11101111011011101100000010011110\n",
      "xor_P : 01100111000100010111110011110010\n",
      "00000000c11bfc09 0000000067117cf2\n",
      "8 Round Ciphertext : c11bfc0967117cf2\n",
      "expension : 001100001110100010100010101111111001011110100100\n",
      "XOR_F : 010000011110010101001000000111001011011110001111\n",
      "S-box : 00111010010100001100110000010100\n",
      "Permutation : 01010111000011010000001000101010\n",
      "xor_P : 10010110000101101111111000100011\n",
      "0000000067117cf2 000000009616fe23\n",
      "9 Round Ciphertext : 67117cf29616fe23\n",
      "expension : 110010101100000010101101011111111100000100000111\n",
      "XOR_F : 110000110011010000100110000011101111000010010110\n",
      "S-box : 11110110000100001011101010111110\n",
      "Permutation : 01111111101000101000011010110011\n",
      "xor_P : 00011000101100111111101001000001\n",
      "000000009616fe23 0000000018b3fa41\n",
      "10 Round Ciphertext : 9616fe2318b3fa41\n",
      "expension : 100011110001010110100111111111110100001000000010\n",
      "XOR_F : 110001001011111011101010111011010010100010011110\n",
      "S-box : 01010010010110110100110101000111\n",
      "Permutation : 11010100010101111010100001101010\n",
      "xor_P : 01000010010000010101011001001001\n",
      "0000000018b3fa41 0000000042415649\n",
      "11 Round Ciphertext : 18b3fa4142415649\n",
      "expension : 101000000100001000000010101010101100001001010010\n",
      "XOR_F : 011011100001111100000011011100101100100101110111\n",
      "S-box : 01011101111010001110110011010000\n",
      "Permutation : 00010011000111011100000111011111\n",
      "xor_P : 00001011101011100011101110011110\n",
      "0000000042415649 000000000bae3b9e\n",
      "12 Round Ciphertext : 424156490bae3b9e\n",
      "expension : 000001010111110101011100000111110111110011111100\n",
      "XOR_F : 000100110001101000100100100011000110101001011100\n",
      "S-box : 11011011100010011000111100011100\n",
      "Permutation : 11011011101010001110000101101010\n",
      "xor_P : 10011001111010011011011100100011\n",
      "000000000bae3b9e 0000000099e9b723\n",
      "13 Round Ciphertext : 0bae3b9e99e9b723\n",
      "expension : 110011110011111101010011110110101110100100000111\n",
      "XOR_F : 010000110100011110001011010110110011101000011010\n",
      "S-box : 00111100100011111111111011000000\n",
      "Permutation : 10110001011111000001001111011011\n",
      "xor_P : 10111010110100100010100001000101\n",
      "0000000099e9b723 00000000bad22845\n",
      "14 Round Ciphertext : 99e9b723bad22845\n",
      "expension : 110111110101011010100100000101010000001000001011\n",
      "XOR_F : 111101000100110011010000110111110100101011010011\n",
      "S-box : 01101000111100011001010001000101\n",
      "Permutation : 10100101000110011000101100101100\n",
      "xor_P : 00111100111100000011110000001111\n",
      "00000000bad22845 000000003cf03c0f\n",
      "15 Round Ciphertext : bad228453cf03c0f\n",
      "expension : 100111111001011110100000000111111000000001011110\n",
      "XOR_F : 111001111010010001100011001111110101101000101110\n",
      "S-box : 10100011001011110001000111000010\n",
      "Permutation : 11100000110100100111001001000101\n",
      "xor_P : 01011010000000000101101000000000\n",
      "000000003cf03c0f 000000005a005a00\n",
      "16 Round Ciphertext : 3cf03c0f5a005a00\n",
      "Swap 32-bit : 5a005a003cf03c0f\n",
      "Decrypted Ciphertext : 02468aceeca86420\n"
     ]
    }
   ],
   "source": [
    "test = DES_CRYPT(\"02468aceeca86420\", \"0f1571c947d9e859\")\n",
    "test.enc()\n",
    "\n",
    "test = DES_CRYPT(\"DA02CE3A89ECAC3B\", \"0f1571c947d9e859\")\n",
    "test.dec()"
   ]
  },
  {
   "cell_type": "code",
   "execution_count": 336,
   "metadata": {
    "collapsed": false
   },
   "outputs": [
    {
     "name": "stdout",
     "output_type": "stream",
     "text": [
      "0000001001000110100010101100111011101100101010000110010000100000\n",
      "2468ACEECA86420\n"
     ]
    }
   ],
   "source": [
    "con = Converter()\n",
    "print(con.hexToBin(\"02468ACEECA86420\"))\n",
    "print(con.binToHex(\"0000001001000110100010101100111011101100101010000110010000100000\"))"
   ]
  },
  {
   "cell_type": "code",
   "execution_count": 7,
   "metadata": {
    "collapsed": false
   },
   "outputs": [
    {
     "name": "stdout",
     "output_type": "stream",
     "text": [
      "binary plaintext : 1111111011011100101110101001100001110110010101000011001000010000\n",
      "binary key : 0000000100100011010001010110011110001001101010111100110111101111\n",
      "binary initial permutation : 0011001111111111001100110000000000001111010101010000111101010101\n",
      "hex initial permutation : 33ff33000f550f55\n",
      "binary permuted choice 1 : 11110000110011001010101000001010101011001100111100000000\n",
      "hex permutated choice 1 : 00f0ccaa0aaccf00\n",
      "binary left shift : 11100001100110010101010000010101010110011001111000000001\n",
      "hex left shift : 00e1995415599e01\n",
      "binary permuted choice 2 : 000010110000001001100111100110110100100110100101\n",
      "hex permuted choice 2 : 00000b02679b49a5\n",
      "expension : 100001011110101010101010100001011110101010101010\n",
      "XOR_F : 100011101110100011001101000111101010001100001111\n",
      "S-box : 11000001101000001100100010000100\n",
      "Permutation : 00010001100001001100000100100101\n",
      "xor_P : 00100010011110111111001000100101\n",
      "000000000f550f55 00000000227bf225\n",
      "binary single round : 0000111101010101000011110101010100100010011110111111001000100101\n",
      "hex single round : 0f550f55227bf225\n",
      "Swap 32-bit : 227bf2250f550f55\n",
      "Encryped Ciphertext : bbdcab9836553604\n"
     ]
    }
   ],
   "source": [
    "con = Converter()\n",
    "\n",
    "data = con.hexToBin(\"FEDCBA9876543210\")\n",
    "print(\"binary plaintext : {0}\".format(data))\n",
    "key = con.hexToBin(\"0123456789ABCDEF\")\n",
    "print(\"binary key : {0}\".format(key))\n",
    "\n",
    "des = DES(data, key)\n",
    "\n",
    "ip = des.ip()\n",
    "print(\"binary initial permutation : {0}\".format(ip))\n",
    "print(\"hex initial permutation : {0}\".format(con.binToHex(ip)))\n",
    "\n",
    "pc_1 = des.pc_1()\n",
    "print(\"binary permuted choice 1 : {0}\".format(pc_1))\n",
    "print(\"hex permutated choice 1 : {0}\".format(con.binToHex(pc_1)))\n",
    "\n",
    "shift = des.leftShift(pc_1, 1)\n",
    "print(\"binary left shift : {0}\".format(shift))\n",
    "print(\"hex left shift : {0}\".format(con.binToHex(shift)))\n",
    "\n",
    "pc_2 = des.pc_2(shift)\n",
    "print(\"binary permuted choice 2 : {0}\".format(pc_2))\n",
    "print(\"hex permuted choice 2 : {0}\".format(con.binToHex(pc_2)))\n",
    "\n",
    "single = des.singleRound(ip, pc_2)\n",
    "print(\"binary single round : {0}\".format(single))\n",
    "print(\"hex single round : {0}\".format(con.binToHex(single)))\n",
    "\n",
    "swap = des.swap(single)\n",
    "print(\"Swap 32-bit : {0}\".format(con.binToHex(swap)))\n",
    "\n",
    "inverse = des.ipInverse(swap)\n",
    "print(\"Encryped Ciphertext : {0}\".format(con.binToHex(inverse)))"
   ]
  },
  {
   "cell_type": "code",
   "execution_count": 344,
   "metadata": {
    "collapsed": false
   },
   "outputs": [
    {
     "name": "stdout",
     "output_type": "stream",
     "text": [
      "5a005a003cf03c0f\n",
      "68fc44a1113e96\n",
      "d1f88942227d2c\n",
      "1E030F03080D2930\n",
      "3cf03c0fbad22845\n",
      "a3f1129444fa58\n",
      "0A31293432242318\n",
      "bad2284599e9b723\n",
      "8fc44a6113e961\n",
      "23072318201D0C1D\n",
      "99e9b7230bae3b9e\n",
      "3f1129a44fa584\n",
      "05261D3824311A20\n",
      "bae3b9e42415649\n",
      "fc44a6813e9611\n",
      "3325340136002C25\n",
      "4241564918b3fa41\n",
      "f1129a34fa5844\n",
      "123A2D0D04262A1C\n",
      "18b3fa419616fe23\n",
      "c44a68f3e96111\n",
      "021F120B1C130611\n",
      "9616fe2367117cf2\n",
      "1129a3ffa58444\n",
      "1C10372A2832002B\n",
      "67117cf2c11bfc09\n",
      "225347ef4b0889\n",
      "04292A380C341F03\n",
      "c11bfc09887fbc6c\n",
      "894d1f8d2c2227\n",
      "2703212607280403\n",
      "887fbc6c600f7e8b\n",
      "25347e24b0889f\n",
      "2826390C31261504\n",
      "600f7e8bf596506e\n",
      "94d1f882c2227d\n",
      "12071C241A0A0F08\n",
      "f596506e738538b8\n",
      "5347e22b0889f4\n",
      "300935393C0D100B\n",
      "738538b8c6a62c4e\n",
      "4d1f889c2227d2\n",
      "311E09231321182A\n",
      "c6a62c4e56b0bd75\n",
      "347e2250889f4b\n",
      "283D3E0227072528\n",
      "56b0bd7575e8fd8f\n",
      "68fc44a1113e96\n",
      "2921080B13143025\n",
      "75e8fd8f25896490\n",
      "2589649075e8fd8f\n",
      "da02ce3a89ecac3b\n"
     ]
    }
   ],
   "source": [
    "con = Converter()\n",
    "\n",
    "data = con.hexToBin(\"02468aceeca86420\")\n",
    "key = con.hexToBin(\"0f1571c947d9e859\")\n",
    "\n",
    "des = DES(data, key)\n",
    "\n",
    "ip = des.ip()\n",
    "print(con.binToHex(ip))\n",
    "\n",
    "pc_1 = des.pc_1()\n",
    "print(con.binToHex(pc_1))\n",
    "\n",
    "for i in range(1, 17):\n",
    "    shift = des.leftShift(pc_1, i)\n",
    "    print(con.binToHex(shift))\n",
    "\n",
    "    pc_2 = des.pc_2(shift)\n",
    "    print(con.binToHexBySix(pc_2))\n",
    "\n",
    "    single = des.singleRound(ip, pc_2)\n",
    "    print(con.binToHex(single))\n",
    "    ip = single\n",
    "    pc_1 = shift\n",
    "\n",
    "swap = des.swap(single)\n",
    "print(con.binToHex(swap))\n",
    "\n",
    "inverse = des.ipInverse(swap)\n",
    "print(con.binToHex(inverse))\n",
    "\n",
    "\n"
   ]
  },
  {
   "cell_type": "code",
   "execution_count": 251,
   "metadata": {
    "collapsed": false
   },
   "outputs": [
    {
     "data": {
      "text/plain": [
       "'0011110011110000001111000000111110111010110100100010100001000101'"
      ]
     },
     "execution_count": 251,
     "metadata": {},
     "output_type": "execute_result"
    }
   ],
   "source": [
    "con.hexToBin(\"3CF03C0FBAD22845\")"
   ]
  },
  {
   "cell_type": "code",
   "execution_count": 361,
   "metadata": {
    "collapsed": false
   },
   "outputs": [
    {
     "data": {
      "text/plain": [
       "'00000003e8'"
      ]
     },
     "execution_count": 361,
     "metadata": {},
     "output_type": "execute_result"
    }
   ],
   "source": [
    "hex(1000)[2:].zfill(10)"
   ]
  },
  {
   "cell_type": "code",
   "execution_count": 216,
   "metadata": {
    "collapsed": false
   },
   "outputs": [
    {
     "name": "stdout",
     "output_type": "stream",
     "text": [
      "0000000000000000000000000000000011010001111000011011011100000011\n",
      "0000000000000000000000000000000010011001111010011011011100100011\n"
     ]
    }
   ],
   "source": [
    "print(con.hexToBin(\"D1E1B703\"))\n",
    "print(con.hexToBin(\"99e9b723\"))"
   ]
  },
  {
   "cell_type": "code",
   "execution_count": 129,
   "metadata": {
    "collapsed": false
   },
   "outputs": [
    {
     "name": "stdout",
     "output_type": "stream",
     "text": [
      "1000110010010100101010101010010110101010101001011000110010010100\n"
     ]
    }
   ],
   "source": [
    "#Schedule of Left Shifts(Bits Rotated)\n",
    "roundNumber = \"1122222212222221\"\n",
    "#pc_1 is sliced into two pieces\n",
    "key_up = \"11000110010010100101010101010010\"\n",
    "key_down = \"01010101010100101100011001001010\"\n",
    "\n",
    "key_upShifted = \"11000110010010100101010101010010\"\n",
    "key_downShifted = \"01010101010100101100011001001010\"\n",
    "if(roundNumber[1-1]==\"1\"):\n",
    "    key_upShifted = key_up[1:] + key_up[0]\n",
    "    key_downShifted = key_down[1:] + key_down[0]\n",
    "if(roundNumber[1-1]==\"2\"):\n",
    "    key_upShifted = key_up[2:] + key_up[0] + key_up[1]\n",
    "    key_downShifted = key_down[2:] + key_down[0] + key_down[1]\n",
    "    \n",
    "print(key_upShifted+key_downShifted)"
   ]
  },
  {
   "cell_type": "code",
   "execution_count": 164,
   "metadata": {
    "collapsed": false
   },
   "outputs": [
    {
     "name": "stdout",
     "output_type": "stream",
     "text": [
      "11101110011010110010100000000000\n",
      "11101110011010110010100000000000\n"
     ]
    }
   ],
   "source": [
    "print(\"{0:b}\".format(4000000000))\n",
    "print(bin(4000000000)[2:].zfill(32))\n"
   ]
  },
  {
   "cell_type": "code",
   "execution_count": 16,
   "metadata": {
    "collapsed": false
   },
   "outputs": [
    {
     "ename": "TypeError",
     "evalue": "unsupported operand type(s) for -: 'str' and 'str'",
     "output_type": "error",
     "traceback": [
      "\u001b[0;31m---------------------------------------------------------------------------\u001b[0m",
      "\u001b[0;31mTypeError\u001b[0m                                 Traceback (most recent call last)",
      "\u001b[0;32m<ipython-input-16-f0ea15284f16>\u001b[0m in \u001b[0;36m<module>\u001b[0;34m()\u001b[0m\n\u001b[1;32m      1\u001b[0m \u001b[0ma\u001b[0m \u001b[1;33m=\u001b[0m \u001b[1;34m\"abc\"\u001b[0m\u001b[1;33m\u001b[0m\u001b[0m\n\u001b[1;32m      2\u001b[0m \u001b[0mb\u001b[0m \u001b[1;33m=\u001b[0m \u001b[1;34m\"b\"\u001b[0m\u001b[1;33m\u001b[0m\u001b[0m\n\u001b[0;32m----> 3\u001b[0;31m \u001b[0mc\u001b[0m \u001b[1;33m=\u001b[0m \u001b[0ma\u001b[0m\u001b[1;33m-\u001b[0m\u001b[0mb\u001b[0m\u001b[1;33m\u001b[0m\u001b[0m\n\u001b[0m",
      "\u001b[0;31mTypeError\u001b[0m: unsupported operand type(s) for -: 'str' and 'str'"
     ]
    }
   ],
   "source": [
    "a = \"abc\"\n",
    "b = \"b\"\n",
    "c = a-b"
   ]
  },
  {
   "cell_type": "code",
   "execution_count": 37,
   "metadata": {
    "collapsed": false
   },
   "outputs": [
    {
     "name": "stdout",
     "output_type": "stream",
     "text": [
      "<class 'tuple'>\n",
      "2\n",
      "('asd', 'bcd', 'asc')\n",
      "('asd', 'bcd', 'asc')\n"
     ]
    }
   ],
   "source": [
    "def print_param(*args):\n",
    "    print(len(args))\n",
    "    for p in args:\n",
    "        print(p)\n",
    "\n",
    "a = (\"asd\", \"bcd\", \"asc\")\n",
    "print(type(a))\n",
    "print_param(a, a)"
   ]
  },
  {
   "cell_type": "code",
   "execution_count": 39,
   "metadata": {
    "collapsed": false
   },
   "outputs": [
    {
     "name": "stdout",
     "output_type": "stream",
     "text": [
      "1\n",
      "0\n",
      "1\n",
      "0\n"
     ]
    }
   ],
   "source": [
    "print(1^0)\n",
    "print(1^1)\n",
    "print(0^1)\n",
    "print(0^0)"
   ]
  },
  {
   "cell_type": "code",
   "execution_count": 45,
   "metadata": {
    "collapsed": false
   },
   "outputs": [
    {
     "name": "stdout",
     "output_type": "stream",
     "text": [
      "0000\n"
     ]
    }
   ],
   "source": [
    "a = \"\"\n",
    "b = \"1234\"\n",
    "for i in range(4):\n",
    "    a += str(int(b[i])^int(b[i]))\n",
    "print(a)"
   ]
  },
  {
   "cell_type": "code",
   "execution_count": 47,
   "metadata": {
    "collapsed": false
   },
   "outputs": [],
   "source": [
    "        s1 = [14, 4, 13, 1, 2, 15, 11, 8, 3, 10, 6, 12, 5, 9, 0, 7,\n",
    "            0, 15, 7, 4, 14, 2, 13, 1, 10, 6, 12, 11, 9, 5, 3, 8,\n",
    "            4, 1, 14, 8, 13, 6, 2, 11, 15, 12, 9, 7, 3, 10, 5, 0,\n",
    "            15, 12, 8, 2, 4, 9, 1, 7, 5, 11, 3, 14, 10, 0, 6, 13]"
   ]
  },
  {
   "cell_type": "code",
   "execution_count": 49,
   "metadata": {
    "collapsed": false
   },
   "outputs": [
    {
     "name": "stdout",
     "output_type": "stream",
     "text": [
      "14\n"
     ]
    }
   ],
   "source": [
    "print(s1[0])"
   ]
  },
  {
   "cell_type": "code",
   "execution_count": 53,
   "metadata": {
    "collapsed": false
   },
   "outputs": [
    {
     "name": "stdout",
     "output_type": "stream",
     "text": [
      "1010\n",
      "<class 'str'>\n",
      "10\n"
     ]
    }
   ],
   "source": [
    "b = \"{0:b}\".format(10)\n",
    "print(b)\n",
    "print(type(b))\n",
    "a = int(b, 2)\n",
    "print(a)"
   ]
  },
  {
   "cell_type": "code",
   "execution_count": 95,
   "metadata": {
    "collapsed": false
   },
   "outputs": [
    {
     "name": "stdout",
     "output_type": "stream",
     "text": [
      "0000000000000000000000000000000000000000000000000000000000000000\n"
     ]
    }
   ],
   "source": [
    "a=bin(int(\"0\", 16))[2:].zfill(64)\n",
    "print(a)"
   ]
  },
  {
   "cell_type": "code",
   "execution_count": null,
   "metadata": {
    "collapsed": true
   },
   "outputs": [],
   "source": [
    "0000000100100011010001010110011110001001101010111100110111101111"
   ]
  },
  {
   "cell_type": "code",
   "execution_count": 76,
   "metadata": {
    "collapsed": false
   },
   "outputs": [
    {
     "data": {
      "text/plain": [
       "81985529216486895"
      ]
     },
     "execution_count": 76,
     "metadata": {},
     "output_type": "execute_result"
    }
   ],
   "source": [
    "int(a, 2)"
   ]
  },
  {
   "cell_type": "code",
   "execution_count": 80,
   "metadata": {
    "collapsed": false
   },
   "outputs": [
    {
     "data": {
      "text/plain": [
       "'123456789ABCDEF'"
      ]
     },
     "execution_count": 80,
     "metadata": {},
     "output_type": "execute_result"
    }
   ],
   "source": [
    "'%08X' %int(a, 2)"
   ]
  },
  {
   "cell_type": "code",
   "execution_count": null,
   "metadata": {
    "collapsed": true
   },
   "outputs": [],
   "source": [
    "hex(int(a, 2))"
   ]
  }
 ],
 "metadata": {
  "kernelspec": {
   "display_name": "Python 3",
   "language": "python",
   "name": "python3"
  },
  "language_info": {
   "codemirror_mode": {
    "name": "ipython",
    "version": 3
   },
   "file_extension": ".py",
   "mimetype": "text/x-python",
   "name": "python",
   "nbconvert_exporter": "python",
   "pygments_lexer": "ipython3",
   "version": "3.6.0"
  }
 },
 "nbformat": 4,
 "nbformat_minor": 2
}
